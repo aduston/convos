{
 "cells": [
  {
   "cell_type": "code",
   "execution_count": 8,
   "id": "92772e71",
   "metadata": {},
   "outputs": [],
   "source": [
    "import json\n",
    "from dataclasses import dataclass\n",
    "from google.cloud.speech_v2.types import cloud_speech"
   ]
  },
  {
   "cell_type": "code",
   "execution_count": 7,
   "id": "42a92ea1",
   "metadata": {},
   "outputs": [],
   "source": [
    "with open(\"/Users/aduston/Downloads/transcriptions_20161108_transcript_68a94ddb-0000-28c3-bdfc-582429a7dea4.json\", \"r\") as f:\n",
    "    contents = f.read()\n",
    "rec_results = cloud_speech.BatchRecognizeResults.from_json(contents)"
   ]
  },
  {
   "cell_type": "code",
   "execution_count": 9,
   "id": "e838b0e8",
   "metadata": {},
   "outputs": [],
   "source": [
    "@dataclass\n",
    "class SpeakingTurn:\n",
    "    \"\"\"\n",
    "    Represents a speaking turn in a conversation\n",
    "    \"\"\"\n",
    "    speaker: str\n",
    "    text: str\n",
    "    end_time: float"
   ]
  },
  {
   "cell_type": "code",
   "execution_count": 12,
   "id": "fc16f807",
   "metadata": {},
   "outputs": [
    {
     "ename": "IndexError",
     "evalue": "list index out of range",
     "output_type": "error",
     "traceback": [
      "\u001b[0;31m---------------------------------------------------------------------------\u001b[0m",
      "\u001b[0;31mIndexError\u001b[0m                                Traceback (most recent call last)",
      "Cell \u001b[0;32mIn[12], line 1\u001b[0m\n\u001b[0;32m----> 1\u001b[0m turns \u001b[38;5;241m=\u001b[39m \u001b[43m[\u001b[49m\n\u001b[1;32m      2\u001b[0m \u001b[43m    \u001b[49m\u001b[43mSpeakingTurn\u001b[49m\u001b[43m(\u001b[49m\n\u001b[1;32m      3\u001b[0m \u001b[43m        \u001b[49m\u001b[43mresult\u001b[49m\u001b[38;5;241;43m.\u001b[39;49m\u001b[43mchannel_tag\u001b[49m\u001b[43m,\u001b[49m\u001b[43m \u001b[49m\n\u001b[1;32m      4\u001b[0m \u001b[43m        \u001b[49m\u001b[43mresult\u001b[49m\u001b[38;5;241;43m.\u001b[39;49m\u001b[43malternatives\u001b[49m\u001b[43m[\u001b[49m\u001b[38;5;241;43m0\u001b[39;49m\u001b[43m]\u001b[49m\u001b[38;5;241;43m.\u001b[39;49m\u001b[43mtranscript\u001b[49m\u001b[43m,\u001b[49m\u001b[43m \u001b[49m\n\u001b[1;32m      5\u001b[0m \u001b[43m        \u001b[49m\u001b[43mresult\u001b[49m\u001b[38;5;241;43m.\u001b[39;49m\u001b[43mresult_end_offset\u001b[49m\n\u001b[1;32m      6\u001b[0m \u001b[43m    \u001b[49m\u001b[43m)\u001b[49m\n\u001b[1;32m      7\u001b[0m \u001b[43m    \u001b[49m\u001b[38;5;28;43;01mfor\u001b[39;49;00m\u001b[43m \u001b[49m\u001b[43mresult\u001b[49m\u001b[43m \u001b[49m\u001b[38;5;129;43;01min\u001b[39;49;00m\u001b[43m \u001b[49m\u001b[43mrec_results\u001b[49m\u001b[38;5;241;43m.\u001b[39;49m\u001b[43mresults\u001b[49m\n\u001b[1;32m      8\u001b[0m \u001b[43m]\u001b[49m\n",
      "Cell \u001b[0;32mIn[12], line 4\u001b[0m, in \u001b[0;36m<listcomp>\u001b[0;34m(.0)\u001b[0m\n\u001b[1;32m      1\u001b[0m turns \u001b[38;5;241m=\u001b[39m [\n\u001b[1;32m      2\u001b[0m     SpeakingTurn(\n\u001b[1;32m      3\u001b[0m         result\u001b[38;5;241m.\u001b[39mchannel_tag, \n\u001b[0;32m----> 4\u001b[0m         \u001b[43mresult\u001b[49m\u001b[38;5;241;43m.\u001b[39;49m\u001b[43malternatives\u001b[49m\u001b[43m[\u001b[49m\u001b[38;5;241;43m0\u001b[39;49m\u001b[43m]\u001b[49m\u001b[38;5;241m.\u001b[39mtranscript, \n\u001b[1;32m      5\u001b[0m         result\u001b[38;5;241m.\u001b[39mresult_end_offset\n\u001b[1;32m      6\u001b[0m     )\n\u001b[1;32m      7\u001b[0m     \u001b[38;5;28;01mfor\u001b[39;00m result \u001b[38;5;129;01min\u001b[39;00m rec_results\u001b[38;5;241m.\u001b[39mresults\n\u001b[1;32m      8\u001b[0m ]\n",
      "File \u001b[0;32m~/.pyenv/versions/psychoconvos/lib/python3.11/site-packages/proto/marshal/collections/repeated.py:125\u001b[0m, in \u001b[0;36mRepeatedComposite.__getitem__\u001b[0;34m(self, key)\u001b[0m\n\u001b[1;32m    124\u001b[0m \u001b[38;5;28;01mdef\u001b[39;00m \u001b[38;5;21m__getitem__\u001b[39m(\u001b[38;5;28mself\u001b[39m, key):\n\u001b[0;32m--> 125\u001b[0m     \u001b[38;5;28;01mreturn\u001b[39;00m \u001b[38;5;28mself\u001b[39m\u001b[38;5;241m.\u001b[39m_marshal\u001b[38;5;241m.\u001b[39mto_python(\u001b[38;5;28mself\u001b[39m\u001b[38;5;241m.\u001b[39m_pb_type, \u001b[38;5;28;43mself\u001b[39;49m\u001b[38;5;241;43m.\u001b[39;49m\u001b[43mpb\u001b[49m\u001b[43m[\u001b[49m\u001b[43mkey\u001b[49m\u001b[43m]\u001b[49m)\n",
      "\u001b[0;31mIndexError\u001b[0m: list index out of range"
     ]
    }
   ],
   "source": [
    "turns = [\n",
    "    SpeakingTurn(\n",
    "        result.channel_tag, \n",
    "        result.alternatives[0].transcript if len(result.alternatives) > 0 else \"\", \n",
    "        result.result_end_offset\n",
    "    )\n",
    "    for result in rec_results.results\n",
    "]"
   ]
  }
 ],
 "metadata": {
  "kernelspec": {
   "display_name": "Python 3 (ipykernel)",
   "language": "python",
   "name": "python3"
  },
  "language_info": {
   "codemirror_mode": {
    "name": "ipython",
    "version": 3
   },
   "file_extension": ".py",
   "mimetype": "text/x-python",
   "name": "python",
   "nbconvert_exporter": "python",
   "pygments_lexer": "ipython3",
   "version": "3.11.4"
  }
 },
 "nbformat": 4,
 "nbformat_minor": 5
}
